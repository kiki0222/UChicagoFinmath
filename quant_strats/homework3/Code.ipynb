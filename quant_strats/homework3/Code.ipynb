{
 "cells": [
  {
   "cell_type": "code",
   "execution_count": 1,
   "metadata": {},
   "outputs": [],
   "source": [
    "import gzip\n",
    "import shutil\n",
    "import pandas as pd\n",
    "import numpy as np\n",
    "from statsmodels.regression import linear_model\n",
    "import matplotlib.pyplot as plt"
   ]
  },
  {
   "cell_type": "code",
   "execution_count": 2,
   "metadata": {},
   "outputs": [],
   "source": [
    "contract = 'ETH-BTC_2018' #Here to modify the pair we want to research. \n",
    "path1 = 'C:/Users/Krist/OneDrive/desktop/quant strategies/hw3/book_narrow_'\n",
    "path2 = 'C:/Users/Krist/OneDrive/desktop/quant strategies/hw3/trades_narrow_'\n",
    "path3 = '.delim.gz'\n",
    "path4 = '.txt'\n",
    "path_in_book = path1+contract+path3\n",
    "path_in_trades = path2+contract+path3\n",
    "path_out_book = path1+contract+path4\n",
    "path_out_trades = path2+contract+path4"
   ]
  },
  {
   "cell_type": "code",
   "execution_count": 3,
   "metadata": {},
   "outputs": [],
   "source": [
    "#decompress the files\n",
    "with gzip.open(path_in_book, 'rb') as f_in:\n",
    "    with open(path_out_book, 'wb') as f_out:\n",
    "        shutil.copyfileobj(f_in, f_out)\n",
    "with gzip.open(path_in_trades, 'rb') as f_in:\n",
    "    with open(path_out_trades, 'wb') as f_out:\n",
    "        shutil.copyfileobj(f_in, f_out)"
   ]
  },
  {
   "cell_type": "code",
   "execution_count": 4,
   "metadata": {},
   "outputs": [],
   "source": [
    "#read data and modify\n",
    "book = pd.read_csv(path_out_book,sep = \"|\")\n",
    "trades = pd.read_csv(path_out_trades,sep = \"|\")\n",
    "\n",
    "book = book.rename(columns = {'Mid ':'Mid'})"
   ]
  },
  {
   "cell_type": "code",
   "execution_count": 5,
   "metadata": {},
   "outputs": [],
   "source": [
    "#train test split\n",
    "train_period = 0.2\n",
    "trade_stamp = list(trades['timestamp_utc_nanoseconds'].drop_duplicates())\n",
    "trade_stamp.sort()\n",
    "\n",
    "train = [t for t in trade_stamp if t < trade_stamp[int(len(trade_stamp)*train_period)]]\n",
    "test = [t for t in trade_stamp if t >= trade_stamp[int(len(trade_stamp)*train_period)]]"
   ]
  },
  {
   "cell_type": "code",
   "execution_count": 6,
   "metadata": {},
   "outputs": [],
   "source": [
    "#parameter\n",
    "tau = 5*60*10**9\n",
    "T = 10*60*10**9"
   ]
  },
  {
   "cell_type": "code",
   "execution_count": 7,
   "metadata": {},
   "outputs": [],
   "source": [
    "#get flow and return on the training dataset\n",
    "book = book.sort_values(by = ['received_utc_nanoseconds'])\n",
    "flow = []\n",
    "forward = []\n",
    "for t in train:\n",
    "    trades_seg = trades.loc[(trades['timestamp_utc_nanoseconds']>=t-tau) & (trades['timestamp_utc_nanoseconds']<t)]\n",
    "    flow_seg = (trades_seg['PriceMillionths']*trades_seg['Side']*trades_seg['SizeBillionths']).sum()\n",
    "    flow.append(flow_seg)\n",
    "    book_seg = book.loc[(book['received_utc_nanoseconds']>=t) & (book['received_utc_nanoseconds']<t+T)]\n",
    "    if len(book_seg) == 0:\n",
    "        forward.append(np.nan)\n",
    "    else:\n",
    "        forward_seg = book_seg.loc[book_seg.index[-1],'Mid']/book_seg.loc[book_seg.index[0],'Mid']-1\n",
    "        forward.append(forward_seg)"
   ]
  },
  {
   "cell_type": "code",
   "execution_count": 8,
   "metadata": {},
   "outputs": [
    {
     "name": "stdout",
     "output_type": "stream",
     "text": [
      "flow    5.365325e-20\n",
      "dtype: float64\n",
      "flow    13.604891\n",
      "dtype: float64\n"
     ]
    }
   ],
   "source": [
    "#regression\n",
    "reg_data_set = pd.DataFrame({'flow':flow, 'forward':forward})\n",
    "reg_data_set = reg_data_set.dropna()\n",
    "regression = linear_model.OLS(reg_data_set['forward'],reg_data_set['flow'])\n",
    "result = regression.fit()\n",
    "print(result.params)\n",
    "print(result.tvalues)\n",
    "beta = result.params[0]"
   ]
  },
  {
   "cell_type": "code",
   "execution_count": 9,
   "metadata": {},
   "outputs": [],
   "source": [
    "#get flow and return on the testing dataset\n",
    "flow_test = []\n",
    "forward_test = []\n",
    "for t in test:\n",
    "    trades_seg = trades.loc[(trades['timestamp_utc_nanoseconds']>=t-tau) & (trades['timestamp_utc_nanoseconds']<t)]\n",
    "    flow_seg = (trades_seg['PriceMillionths']*trades_seg['Side']*trades_seg['SizeBillionths']).sum()\n",
    "    flow_test.append(flow_seg)\n",
    "    book_seg = book.loc[(book['received_utc_nanoseconds']>=t) & (book['received_utc_nanoseconds']<t+T)]\n",
    "    if len(book_seg) == 0:\n",
    "        forward_test.append(np.nan)\n",
    "    else:\n",
    "        forward_seg = book_seg.loc[book_seg.index[-1],'Mid']/book_seg.loc[book_seg.index[0],'Mid']-1\n",
    "        forward_test.append(forward_seg)\n",
    "forward_estimate = [f*beta for f in flow_test]"
   ]
  },
  {
   "cell_type": "code",
   "execution_count": 10,
   "metadata": {},
   "outputs": [
    {
     "name": "stdout",
     "output_type": "stream",
     "text": [
      "4688\n",
      "1463\n",
      "2592\n",
      "3612\n"
     ]
    }
   ],
   "source": [
    "#calculate the prediction accuracy\n",
    "tp = [i for i in range(len(forward_estimate)) if (forward_estimate[i] >= 0) & (forward_test[i] >= 0)]\n",
    "tn = [i for i in range(len(forward_estimate)) if (forward_estimate[i] < 0) & (forward_test[i] < 0)]\n",
    "fp = [i for i in range(len(forward_estimate)) if (forward_estimate[i] >= 0) & (forward_test[i] < 0)]\n",
    "fn = [i for i in range(len(forward_estimate)) if (forward_estimate[i] < 0) & (forward_test[i] >= 0)]\n",
    "print(len(tp))\n",
    "print(len(tn))\n",
    "print(len(fp))\n",
    "print(len(fn))"
   ]
  },
  {
   "cell_type": "code",
   "execution_count": 11,
   "metadata": {},
   "outputs": [
    {
     "name": "stdout",
     "output_type": "stream",
     "text": [
      "0.00010751337155842282\n",
      "-3.404067068020925e-05\n",
      "(0.00011, -0.037224549075476766)\n",
      "(0.00012000000000000002, -0.03020647475747498)\n",
      "(0.00013000000000000002, -0.02980462497181089)\n",
      "(0.00014000000000000001, -0.023567954664974324)\n",
      "(0.00015000000000000001, -0.02070880020088324)\n",
      "(0.00016, -0.023227062023899177)\n",
      "(0.00017, -0.021518014699130287)\n",
      "(0.00018, -0.01733500898254503)\n",
      "(0.00019, -0.023626420286876147)\n"
     ]
    },
    {
     "data": {
      "image/png": "[encoded data removed]",
      "text/plain": [
       "<Figure size 432x288 with 1 Axes>"
      ]
     },
     "metadata": {
      "needs_background": "light"
     },
     "output_type": "display_data"
    }
   ],
   "source": [
    "#how to choose j, the process to evaluate the best j\n",
    "plt.plot(forward_estimate)\n",
    "print(np.percentile(forward_estimate,80))\n",
    "print(np.percentile(forward_estimate,20))\n",
    "jlist = [0.00001*i for i in range(11,20)]#[0.0001*i for i in range(1,10)]#[0.001*i for i in range(1,6)]\n",
    "for j in jlist:\n",
    "    opportunity = [i for i in range(len(forward_estimate)) if abs(forward_estimate[i])>j]\n",
    "    side = [0]*len(opportunity)\n",
    "    k = 0\n",
    "    for i in opportunity:\n",
    "        if forward_estimate[i] > 0:\n",
    "            side[k] = 1\n",
    "        else:\n",
    "            side[k] = -1\n",
    "        k += 1\n",
    "    gross_ret = [(1+forward_test[opportunity[i]]*side[i]) for i in range(len(opportunity))]\n",
    "    ret = [(forward_test[opportunity[i]]*side[i]) for i in range(len(opportunity))]\n",
    "    sharpe = np.nanmean(ret)/np.nanstd(ret)\n",
    "    print((j,sharpe))"
   ]
  },
  {
   "cell_type": "code",
   "execution_count": 12,
   "metadata": {},
   "outputs": [
    {
     "name": "stdout",
     "output_type": "stream",
     "text": [
      "(0.00018, -0.01733500898254503)\n",
      "count    2753.000000\n",
      "mean       -0.000035\n",
      "std         0.002002\n",
      "min        -0.007697\n",
      "25%        -0.001185\n",
      "50%         0.000000\n",
      "75%         0.000513\n",
      "max         0.009362\n",
      "dtype: float64\n",
      "1.090447004408795\n",
      "2.4264331893434115\n"
     ]
    }
   ],
   "source": [
    "#get return distributions and stats with one fixed j\n",
    "j = 0.00018\n",
    "opportunity = [i for i in range(len(forward_estimate)) if abs(forward_estimate[i])>j]\n",
    "side = [0]*len(opportunity)\n",
    "k = 0\n",
    "for i in opportunity:\n",
    "    if forward_estimate[i] > 0:\n",
    "        side[k] = 1\n",
    "    else:\n",
    "        side[k] = -1\n",
    "    k += 1\n",
    "gross_ret = [(1+forward_test[opportunity[i]]*side[i]) for i in range(len(opportunity))]\n",
    "ret = [(forward_test[opportunity[i]]*side[i]) for i in range(len(opportunity))]\n",
    "sharpe = np.nanmean(ret)/np.nanstd(ret)\n",
    "print((j,sharpe))\n",
    "print((pd.Series(ret)).describe())\n",
    "print((pd.Series(ret)).skew())\n",
    "print((pd.Series(ret)).kurtosis())"
   ]
  },
  {
   "cell_type": "code",
   "execution_count": null,
   "metadata": {},
   "outputs": [],
   "source": []
  }
 ],
 "metadata": {
  "kernelspec": {
   "display_name": "Python 3",
   "language": "python",
   "name": "python3"
  },
  "language_info": {
   "codemirror_mode": {
    "name": "ipython",
    "version": 3
   },
   "file_extension": ".py",
   "mimetype": "text/x-python",
   "name": "python",
   "nbconvert_exporter": "python",
   "pygments_lexer": "ipython3",
   "version": "3.7.3"
  }
 },
 "nbformat": 4,
 "nbformat_minor": 2
}
