{
 "cells": [
  {
   "cell_type": "code",
   "execution_count": 1,
   "metadata": {},
   "outputs": [],
   "source": [
    "import quandl\n",
    "import pandas as pd\n",
    "import datetime\n",
    "import matplotlib.pyplot as plt\n",
    "import numpy as np\n",
    "from statsmodels.regression import linear_model"
   ]
  },
  {
   "cell_type": "code",
   "execution_count": 2,
   "metadata": {},
   "outputs": [],
   "source": [
    "def test(window,g,j,S):\n",
    "    data = pd.read_csv('C:/Users/Krist/OneDrive/desktop/quant strategies/hw2/spread.csv')\n",
    "    spread =  data['spread'] - data['spread'].rolling(window).mean()\n",
    "    data['indicator'] = (spread-spread.mean())/spread.std()\n",
    "    data = data[window-1:]\n",
    "    \n",
    "    g_ = -1*g#np.percentile(data['indicator'],50-params1)\n",
    "    j_ = -1*j#np.percentile(data['indicator'],50-params2)\n",
    "    \n",
    "    #position\n",
    "    data['position'] = pd.Series(0)\n",
    "    data.loc[data['indicator']<g_,'position'] = 1\n",
    "    data.loc[data['indicator']>g,'position'] = -1\n",
    "    data.loc[(data['indicator']<j) & (data['indicator']>j_),'position'] = 0\n",
    "    \n",
    "    if np.isnan(data.loc[window-1,'position']):\n",
    "        data.loc[window-1,'position'] = 0\n",
    "        \n",
    "    for i in range(0,len(data)):\n",
    "        i += window - 1\n",
    "        if np.isnan(data.loc[i,'position']):\n",
    "            data.loc[i,'position'] = data.loc[i-1,'position']\n",
    "            \n",
    "    #exit monthly\n",
    "    for i in range(0,len(data)-1):\n",
    "        i += window - 1\n",
    "        if data.loc[i,'Date'][5:7] != data.loc[i+1,'Date'][5:7]:\n",
    "            data.loc[i,'position'] = 0\n",
    "            \n",
    "    data['adjust'] = data['position'].diff()\n",
    "    data.loc[window-1,'adjust'] = data.loc[window-1,'position']\n",
    "    \n",
    "    #size\n",
    "    #I consider flip between position +1 and -1 an entry \n",
    "    data['size_BB'] = pd.Series(np.nan)\n",
    "    data.loc[(data['adjust'] != 0) & (data['position'] != 0), 'size_BB'] = np.round(500000/(data['price_BB']*1000))\n",
    "    data['size_GG'] = pd.Series(np.nan)\n",
    "    data.loc[(data['adjust'] != 0) & (data['position'] != 0), 'size_GG'] = np.round(500000/(data['price_GG']*100))\n",
    "    \n",
    "    \n",
    "    for i in range(1,len(data)):\n",
    "        i += window - 1\n",
    "        if np.isnan(data.loc[i,'size_BB']):\n",
    "            data.loc[i,'size_BB'] = data.loc[i-1,'size_BB']\n",
    "    for i in range(1,len(data)):\n",
    "        i += window - 1\n",
    "        if np.isnan(data.loc[i,'size_GG']):\n",
    "            data.loc[i,'size_GG'] = data.loc[i-1,'size_GG']\n",
    "            \n",
    "    #track notional value\n",
    "    data['notional'] = pd.Series(np.nan)\n",
    "    data.loc[(data['adjust'] != 0) & (data['position'] != 0), 'notional'] = \\\n",
    "    data['size_BB'] * data['price_BB']*1000 + data['size_GG'] * data['price_GG']*100\n",
    "    \n",
    "    #holdings\n",
    "    data['holdings'] = data['position'] * (data['size_GG']*data['price_GG']*100 - data['size_BB']*data['price_BB']*1000)\n",
    "    \n",
    "    #stoploss\n",
    "    date = data['Date'].apply(lambda x: x[:7]).unique().tolist()\n",
    "    data_new = pd.DataFrame()\n",
    "    for d in date:\n",
    "        data_mon = data.loc[data['Date'].apply(lambda x: x[:7]) == d]\n",
    "        data_mon = data_mon.reset_index(drop = True)\n",
    "        if len(data_mon.loc[np.isnan(data_mon['notional'])==False].index)!=0:\n",
    "            entry_mon = data_mon.loc[np.isnan(data_mon['notional'])==False].index[0]\n",
    "            for k in range(entry_mon,len(data_mon)):\n",
    "                if np.isnan(data_mon.loc[k,'notional']) == False:\n",
    "                    notional = data_mon.loc[k,'notional']\n",
    "                    base = data_mon.loc[k,'holdings']\n",
    "                else:\n",
    "                    if (data_mon.loc[k,'position'] != 0) & ((data_mon.loc[k,'holdings']-base)/notional < -1*S):\n",
    "                        break\n",
    "            data_mon.loc[k:,'position'] = 0\n",
    "        data_new = data_new.append(data_mon)\n",
    "    data_new = data_new.reset_index(drop = True)\n",
    "    data_new['adjust'] = data_new['position'].diff()\n",
    "    data_new.loc[0,'adjust'] = data_new.loc[0,'position'] \n",
    "    data_new['holdings'] = data_new['position'] * (data_new['size_GG']*data_new['price_GG']*100 - data_new['size_BB']*data_new['price_BB']*1000)\n",
    "    \n",
    "    #capital & pnl\n",
    "    capital = 100000000\n",
    "    data_new['cash'] = ( - data_new['adjust']*(data_new['size_GG']*data_new['price_GG']*100 - data_new['size_BB']*data_new['price_BB']*1000)).cumsum() + capital\n",
    "    data_new['total'] = data_new['holdings'] + data_new['cash']\n",
    "    data_new['pnl'] = data_new['total'].diff()\n",
    "    data_new['cum_pnl'] = data_new['pnl'].cumsum()\n",
    "    \n",
    "    ret = data_new['total'].diff()/data_new['total']\n",
    "    data_new['ret'] = ret\n",
    "    \n",
    "    plt.figure()\n",
    "    plt.plot(data_new['total'])\n",
    "    plt.title(\"j = \"+str(j)+\", g = \"+str(g)+\", M = \"+str(window)+\", S = \"+str(S))\n",
    "    \n",
    "    return data_new"
   ]
  },
  {
   "cell_type": "code",
   "execution_count": 3,
   "metadata": {},
   "outputs": [],
   "source": [
    "#Get data\n",
    "year = ['2018','2019']\n",
    "month = ['H','M','U','Z']\n",
    "\n",
    "tu = pd.DataFrame()\n",
    "us = pd.DataFrame()\n",
    "#GET ICE B B\n",
    "last_day = pd.Timestamp(datetime.datetime(2017,12,1))\n",
    "for y in year:\n",
    "    for m in month:\n",
    "        tu_name = \"OWF/ICE_B_B_\" + m + y + \"_IVM\"\n",
    "        data_seg = quandl.get(tu_name, authtoken=\"khzKyrGRmxZen9BA5h9a\")\n",
    "        tu = tu.append(data_seg.loc[data_seg.index > last_day])\n",
    "        last_day = data_seg.index[-1]\n",
    "tu = tu.loc[tu.index <= pd.Timestamp(datetime.datetime(2019,8,31))]\n",
    "#GET ICE G G\n",
    "last_day = pd.Timestamp(datetime.datetime(2017,12,1))\n",
    "for y in year:\n",
    "    for m in month:\n",
    "        us_name = \"OWF/ICE_G_G_\" + m + y + \"_IVM\"\n",
    "        data_seg = quandl.get(us_name, authtoken=\"khzKyrGRmxZen9BA5h9a\")\n",
    "        us = us.append(data_seg.loc[data_seg.index > last_day])\n",
    "        last_day = data_seg.index[-1]\n",
    "us = us.loc[us.index <= pd.Timestamp(datetime.datetime(2019,8,31))]\n",
    "spread = pd.DataFrame(us['Future']/7.45-tu['Future'])\n",
    "spread = spread.dropna()\n",
    "data = pd.DataFrame({'spread':spread['Future'],'price_BB':tu['Future'],'price_GG':us['Future']})\n",
    "data = data.dropna()\n",
    "data.to_csv('C:/Users/Krist/OneDrive/desktop/quant strategies/hw2/spread.csv')"
   ]
  },
  {
   "cell_type": "code",
   "execution_count": null,
   "metadata": {},
   "outputs": [],
   "source": [
    "#find good parameter\n",
    "#Warning: This part takes a long time so I actually use parallel computing in spyder ide to get the result.\n",
    "win = [i*5 for i in range(1,10)]\n",
    "stoploss = [0.1,0.05,0.01,0.005]\n",
    "up = [i*0.1 for i in range(2,21)]\n",
    "down = [(i-1)*0.1 for i in range(2,21)]\n",
    "for window in win:\n",
    "    for S in stoploss:\n",
    "        for i in range(len(up)):\n",
    "            test(window,S,up[i],down[i])"
   ]
  },
  {
   "cell_type": "code",
   "execution_count": 4,
   "metadata": {},
   "outputs": [
    {
     "data": {
      "image/png": "[encoded data removed]",
      "text/plain": [
       "<Figure size 432x288 with 1 Axes>"
      ]
     },
     "metadata": {
      "needs_background": "light"
     },
     "output_type": "display_data"
    }
   ],
   "source": [
    "window = 10\n",
    "S = 0.05\n",
    "g = 1#np.percentile(data['indicator'],50+params1)\n",
    "j = 0.9#np.percentile(data['indicator'],50+params2)\n",
    "data_new = test(window,S,g,j)"
   ]
  },
  {
   "cell_type": "code",
   "execution_count": 5,
   "metadata": {},
   "outputs": [
    {
     "name": "stdout",
     "output_type": "stream",
     "text": [
      "0.2139485894762849\n",
      "0.24339819717697955\n"
     ]
    }
   ],
   "source": [
    "#Analysis \n",
    "#Sharpe & Sortino\n",
    "sharpe = data_new['ret'].mean()/data_new['ret'].std()\n",
    "sortino = data_new['ret'].mean()/data_new['ret'].loc[data_new['ret']<0].std()\n",
    "print(sharpe)\n",
    "print(sortino)"
   ]
  },
  {
   "cell_type": "code",
   "execution_count": 6,
   "metadata": {},
   "outputs": [],
   "source": [
    "#ff3 data\n",
    "ff = pd.read_csv('C:/Users/Krist/OneDrive/desktop/quant strategies/hw2/F-F_Research_Data_Factors_daily.csv')\n",
    "ff = ff.rename(columns = {'Unnamed: 0':'Date'})\n",
    "ff = ff.loc[(ff['Date'] >= '20171204') & (ff['Date'] <= '20190830')]"
   ]
  },
  {
   "cell_type": "code",
   "execution_count": 7,
   "metadata": {},
   "outputs": [
    {
     "name": "stdout",
     "output_type": "stream",
     "text": [
      "-5.258015771149507\n",
      "-5.258015771149507\n"
     ]
    }
   ],
   "source": [
    "#merge\n",
    "daily_return = pd.DataFrame(columns = {'Date', 'ret'})\n",
    "daily_return['Date'] = data_new['Date']\n",
    "daily_return['ret'] = data_new['ret']\n",
    "daily_return['Date'] = daily_return['Date'].apply(lambda x: x[0:4]+x[5:7]+x[8:])\n",
    "\n",
    "reg = daily_return.merge(ff,how = 'left', on = 'Date')\n",
    "reg = reg.dropna()\n",
    "reg['R_spread'] = reg['ret']-reg['RF']\n",
    "\n",
    "sharpe2 = reg['R_spread'].mean()/reg['R_spread'].std()\n",
    "sortino2 = reg['R_spread'].mean()/reg['R_spread'].loc[reg['R_spread']<0].std()\n",
    "print(sharpe2)\n",
    "print(sortino2)"
   ]
  },
  {
   "cell_type": "code",
   "execution_count": 8,
   "metadata": {},
   "outputs": [
    {
     "name": "stdout",
     "output_type": "stream",
     "text": [
      "Mkt-RF   -0.000148\n",
      "dtype: float64\n",
      "Mkt-RF   -0.381949\n",
      "dtype: float64\n",
      "-5.238325099708412\n",
      "-5.238325099708412\n",
      "SMB    0.000757\n",
      "dtype: float64\n",
      "SMB    0.982486\n",
      "dtype: float64\n",
      "-5.163862478494679\n",
      "-5.163862478494679\n",
      "HML    0.00132\n",
      "dtype: float64\n",
      "HML    1.926814\n",
      "dtype: float64\n",
      "-4.60065242065644\n",
      "-4.60065242065644\n",
      "Mkt-RF    0.000056\n",
      "SMB       0.001020\n",
      "HML       0.001496\n",
      "dtype: float64\n",
      "Mkt-RF    0.137711\n",
      "SMB       1.309127\n",
      "HML       2.066063\n",
      "dtype: float64\n",
      "-4.450766233708933\n",
      "-4.450766233708933\n"
     ]
    }
   ],
   "source": [
    "#regression\n",
    "factors = ['Mkt-RF','SMB','HML']\n",
    "for f in factors:\n",
    "    regression = linear_model.OLS(reg['R_spread'],reg[f])\n",
    "    result = regression.fit()\n",
    "    print(result.params)\n",
    "    print(result.tvalues)\n",
    "    res = result.resid\n",
    "    print(res.mean()/res.std())\n",
    "    print(res.mean()/res.loc[res<0].std())\n",
    "\n",
    "regression = linear_model.OLS(reg['R_spread'],reg[['Mkt-RF','SMB','HML']])\n",
    "result = regression.fit()\n",
    "print(result.params)\n",
    "print(result.tvalues)\n",
    "res = result.resid\n",
    "print(res.mean()/res.std())\n",
    "print(res.mean()/res.loc[res<0].std())"
   ]
  },
  {
   "cell_type": "code",
   "execution_count": null,
   "metadata": {},
   "outputs": [],
   "source": []
  }
 ],
 "metadata": {
  "kernelspec": {
   "display_name": "Python 3",
   "language": "python",
   "name": "python3"
  },
  "language_info": {
   "codemirror_mode": {
    "name": "ipython",
    "version": 3
   },
   "file_extension": ".py",
   "mimetype": "text/x-python",
   "name": "python",
   "nbconvert_exporter": "python",
   "pygments_lexer": "ipython3",
   "version": "3.7.3"
  }
 },
 "nbformat": 4,
 "nbformat_minor": 2
}
